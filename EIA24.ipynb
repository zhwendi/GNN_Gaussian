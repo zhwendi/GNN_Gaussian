{
 "cells": [
  {
   "cell_type": "code",
   "execution_count": null,
   "id": "initial_id",
   "metadata": {
    "collapsed": true
   },
   "outputs": [],
   "source": [
    ""
   ]
  },
  {
   "metadata": {},
   "cell_type": "code",
   "outputs": [],
   "execution_count": null,
   "source": "",
   "id": "11125db527fa1bfd"
  },
  {
   "metadata": {
    "ExecuteTime": {
     "end_time": "2024-11-05T04:21:07.466922Z",
     "start_time": "2024-11-05T04:19:53.777311Z"
    }
   },
   "cell_type": "code",
   "source": [
    "import pandas as pd\n",
    "import numpy as np\n",
    "from scipy import stats\n",
    "\n",
    "# 读取Excel文件\n",
    "df = pd.read_excel('F:/AAA/GNN_Gaussian/data/EIA24/new/EIA24.xlsx')\n",
    "\n",
    "# 计算z-score\n",
    "z_scores = np.abs(stats.zscore(df.select_dtypes(include=[np.number])))\n",
    "\n",
    "# 设置阈值\n",
    "threshold = 3\n",
    "\n",
    "# 找出异常值\n",
    "outliers = (z_scores > threshold).any(axis=1)\n",
    "\n",
    "# 删除异常值\n",
    "df_cleaned = df[~outliers]\n",
    "\n",
    "# 将处理后的数据保存到新的Excel文件\n",
    "df_cleaned.to_excel('F:/AAA/GNN_Gaussian/data/EIA24/new/EIA24_222222.xlsx', index=False)"
   ],
   "id": "22eb9c747ec93cf4",
   "outputs": [],
   "execution_count": 17
  },
  {
   "metadata": {},
   "cell_type": "code",
   "outputs": [],
   "execution_count": null,
   "source": "",
   "id": "cae344b80b34fbb6"
  },
  {
   "metadata": {},
   "cell_type": "code",
   "outputs": [],
   "execution_count": null,
   "source": "",
   "id": "aadba5ab221fcfd5"
  },
  {
   "metadata": {},
   "cell_type": "code",
   "outputs": [],
   "execution_count": null,
   "source": "#填充空值",
   "id": "667822af16812df7"
  },
  {
   "metadata": {
    "ExecuteTime": {
     "end_time": "2024-11-05T05:02:51.212690Z",
     "start_time": "2024-11-05T04:57:14.600467Z"
    }
   },
   "cell_type": "code",
   "source": [
    "import numpy as np\n",
    "import pandas as pd\n",
    "\n",
    "csv_file_path = 'F:/AAA/GNN_Gaussian/data/EIA24/new/EIA24.xlsx'\n",
    "df = pd.read_excel(csv_file_path)\n",
    "\n",
    "# 只保留后13列\n",
    "df = df.iloc[:, -13:]\n",
    "\n",
    "# 定义一个函数来填充空值\n",
    "def fill_missing_values(column):\n",
    "    # 复制列以避免在原始数据上进行修改\n",
    "    filled_column = column.copy()\n",
    "    for i in range(len(filled_column)):\n",
    "        if pd.isnull(filled_column[i]):\n",
    "            # 找到前后非空值的索引\n",
    "            prev_index = np.max([index for index in range(i) if not pd.isnull(filled_column[index])])\n",
    "            next_index = np.min([index for index in range(i+1, len(filled_column)) if not pd.isnull(filled_column[index])])\n",
    "            if prev_index != -1 and next_index != -1:  # 确保前后都有非空值\n",
    "                filled_column[i] = (filled_column[prev_index] + filled_column[next_index]) / 2\n",
    "            elif prev_index != -1:  # 只有前一个值非空\n",
    "                filled_column[i] = filled_column[prev_index]\n",
    "            elif next_index != -1:  # 只有后一个值非空\n",
    "                filled_column[i] = filled_column[next_index]\n",
    "    return filled_column\n",
    "\n",
    "# 应用函数到每一列\n",
    "for column in df.columns:\n",
    "    df[column] = fill_missing_values(df[column])\n",
    "\n",
    "# 检查结果\n",
    "print(df.head())\n",
    "\n",
    "# 将处理后的 DataFrame 保存回 Excel 文件\n",
    "df.to_excel('F:/AAA/GNN_Gaussian/data/EIA24/new/EIA24_new_filled.xlsx', index=False)"
   ],
   "id": "af7b7d8f472db36c",
   "outputs": [
    {
     "name": "stdout",
     "output_type": "stream",
     "text": [
      "         D    D.1      D.2    D.3       D.4      D.5    D.6      D.7      D.8  \\\n",
      "0  48300.0  32270  40013.0  38866  106560.0  94694.0  17653  46876.0  22262.0   \n",
      "1  48136.0  31456  38804.0  37264  103392.0  92555.0  17286  48293.0  21746.0   \n",
      "2  47343.0  30655  37332.0  35513  101862.0  91525.0  16701  47383.0  21525.0   \n",
      "3  46165.0  28341  36422.0  32572   96385.0  89457.0  15220  46229.0  20149.0   \n",
      "4  45380.0  25812  34173.0  29414   89387.0  83633.0  13594  45124.0  18493.0   \n",
      "\n",
      "       D.9     D.10     D.11     D.12  \n",
      "0  34463.0  19369.0  19574.0  51756.0  \n",
      "1  33016.0  13482.0  19081.0  50171.0  \n",
      "2  32436.0  13040.0  19362.0  48655.0  \n",
      "3  30526.0  12824.0  18914.0  47667.0  \n",
      "4  25966.0  12500.0  17617.0  44629.0  \n"
     ]
    }
   ],
   "execution_count": 22
  },
  {
   "metadata": {},
   "cell_type": "code",
   "outputs": [],
   "execution_count": null,
   "source": "",
   "id": "93ccc16e495c1419"
  },
  {
   "metadata": {},
   "cell_type": "code",
   "outputs": [],
   "execution_count": null,
   "source": "",
   "id": "8777b1ebb7e5630c"
  },
  {
   "metadata": {},
   "cell_type": "code",
   "outputs": [],
   "execution_count": null,
   "source": "",
   "id": "16e6400701f76710"
  },
  {
   "metadata": {},
   "cell_type": "code",
   "outputs": [],
   "execution_count": null,
   "source": "",
   "id": "5293fea3f0f2bbae"
  },
  {
   "metadata": {},
   "cell_type": "code",
   "outputs": [],
   "execution_count": null,
   "source": "",
   "id": "668b9809017a6d6"
  },
  {
   "metadata": {},
   "cell_type": "code",
   "outputs": [],
   "execution_count": null,
   "source": [
    "import pandas as pd\n",
    "import numpy as np\n",
    "from scipy import stats\n",
    "\n",
    "# 读取Excel文件\n",
    "file_path = 'F:/AAA/GNN_Gaussian/data/EIA24/new/EIA24.xlsx'\n",
    "df = pd.read_excel(file_path)\n",
    "\n",
    "# 定义一个函数来找出异常值\n",
    "def find_outliers(data):\n",
    "    # 计算z-score\n",
    "    z_scores = np.abs(stats.zscore(data))\n",
    "    # 设置阈值，通常使用3作为阈值\n",
    "    threshold = 3\n",
    "    # 找出异常值\n",
    "    return z_scores > threshold\n",
    "\n",
    "# 定义一个函数来填充空值，使用前后值的平均值\n",
    "def fill_missing_values(column):\n",
    "    column = column.copy()\n",
    "    for i in range(len(column)):\n",
    "        if pd.isnull(column[i]):\n",
    "            prev_index = max([index for index in range(i) if not pd.isnull(column[index])] or [-1])\n",
    "            next_index = min([index for index in range(i+1, len(column)) if not pd.isnull(column[index])] or [len(column)])\n",
    "            if prev_index != -1 and next_index != len(column):\n",
    "                # 如果前后都有非空值，则计算平均值\n",
    "                column[i] = (column[prev_index] + column[next_index]) / 2\n",
    "            elif prev_index != -1:\n",
    "                # 如果只有前一个值非空，则使用前一个值\n",
    "                column[i] = column[prev_index]\n",
    "            elif next_index != len(column):\n",
    "                # 如果只有后一个值非空，则使用后一个值\n",
    "                column[i] = column[next_index]\n",
    "    return column\n",
    "\n",
    "# 遍历每一列数值类型的列\n",
    "for column in df.select_dtypes(include=[np.number]).columns:\n",
    "    # 找出异常值的布尔序列\n",
    "    outliers = find_outliers(df[column].dropna())\n",
    "    # 删除异常值\n",
    "    df = df[~outliers]\n",
    "    # 填充剩余的空值\n",
    "    df[column] = fill_missing_values(df[column])\n",
    "\n",
    "# 检查结果\n",
    "print(df.head())\n",
    "\n",
    "# 将处理后的DataFrame保存回Excel文件\n",
    "df.to_excel('F:/AAA/GNN_Gaussian/data/EIA24/new/EIA24_cleaned_and_filled.xlsx', index=False)"
   ],
   "id": "f4aab9d5df739cd6"
  },
  {
   "metadata": {},
   "cell_type": "code",
   "outputs": [],
   "execution_count": null,
   "source": "",
   "id": "d655a2f0c55125a9"
  }
 ],
 "metadata": {
  "kernelspec": {
   "display_name": "Python 3",
   "language": "python",
   "name": "python3"
  },
  "language_info": {
   "codemirror_mode": {
    "name": "ipython",
    "version": 2
   },
   "file_extension": ".py",
   "mimetype": "text/x-python",
   "name": "python",
   "nbconvert_exporter": "python",
   "pygments_lexer": "ipython2",
   "version": "2.7.6"
  }
 },
 "nbformat": 4,
 "nbformat_minor": 5
}
